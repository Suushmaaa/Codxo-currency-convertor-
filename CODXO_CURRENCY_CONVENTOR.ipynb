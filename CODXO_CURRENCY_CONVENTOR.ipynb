{
  "nbformat": 4,
  "nbformat_minor": 0,
  "metadata": {
    "colab": {
      "provenance": []
    },
    "kernelspec": {
      "name": "python3",
      "display_name": "Python 3"
    },
    "language_info": {
      "name": "python"
    }
  },
  "cells": [
    {
      "cell_type": "markdown",
      "source": [
        "*** Define the Currencies and Exchange Rates ***\n",
        "\n",
        "\n",
        "First, define the currencies and their exchange rates. For simplicity, we will use the following currencies and rates\n"
      ],
      "metadata": {
        "id": "mS1D8Ma5Jpul"
      }
    },
    {
      "cell_type": "code",
      "execution_count": null,
      "metadata": {
        "id": "1V27cOmiM-yy"
      },
      "outputs": [],
      "source": [
        "\n",
        "currencies = {\n",
        "    \"USD\": {\"name\": \"US Dollar\", \"rate\": 1.0},\n",
        "    \"EUR\": {\"name\": \"Euro\", \"rate\": 0.88},\n",
        "    \"GBP\": {\"name\": \"British Pound\", \"rate\": 0.76},\n",
        "    \"JPY\": {\"name\": \"Japanese Yen\", \"rate\": 110.0},\n",
        "    \"INR\": {\"name\": \"Indian Rupee\", \"rate\": 74.0},\n",
        "}"
      ]
    },
    {
      "cell_type": "markdown",
      "source": [
        "**Define the Conversion Function**\n",
        "\n",
        "Next, define a function to perform the conversion. This function will take the amount to convert, the source currency, and the target currency as arguments. It will then calculate the converted amount based on the exchange rates"
      ],
      "metadata": {
        "id": "QzyYGAJGKD4_"
      }
    },
    {
      "cell_type": "code",
      "source": [
        "def convert(amount, source, target):\n",
        "    if source not in currencies or target not in currencies:\n",
        "        return \"Invalid currency\"\n",
        "    converted_amount = amount * currencies[target][\"rate\"] / currencies[source][\"rate\"]\n",
        "    return f\"{amount} {currencies[source]['name']} is equal to {converted_amount} {currencies[target]['name']}\""
      ],
      "metadata": {
        "id": "fiFc8hudqTKf"
      },
      "execution_count": null,
      "outputs": []
    },
    {
      "cell_type": "markdown",
      "source": [
        "Now, test the conversion function with different amounts and currency pairs"
      ],
      "metadata": {
        "id": "oS5zAh9oKNlE"
      }
    },
    {
      "cell_type": "code",
      "source": [
        "\n",
        "print(convert(100, \"USD\", \"EUR\"))\n",
        "print(convert(500, \"EUR\", \"GBP\"))\n",
        "print(convert(1000, \"JPY\", \"INR\"))"
      ],
      "metadata": {
        "colab": {
          "base_uri": "https://localhost:8080/"
        },
        "id": "hfNd6PVlqXA2",
        "outputId": "d952d076-30aa-4a14-bfa0-6caf61162d5d"
      },
      "execution_count": null,
      "outputs": [
        {
          "output_type": "stream",
          "name": "stdout",
          "text": [
            "100 US Dollar is equal to 88.0 Euro\n",
            "500 Euro is equal to 431.8181818181818 British Pound\n",
            "1000 Japanese Yen is equal to 672.7272727272727 Indian Rupee\n"
          ]
        }
      ]
    },
    {
      "cell_type": "markdown",
      "source": [
        "**METHOD 2**"
      ],
      "metadata": {
        "id": "xe6iGIZXKdsI"
      }
    },
    {
      "cell_type": "markdown",
      "source": [
        "**Set Up Dependencies**"
      ],
      "metadata": {
        "id": "ZboDjwtwLAt7"
      }
    },
    {
      "cell_type": "code",
      "source": [
        "pip install requests\n"
      ],
      "metadata": {
        "colab": {
          "base_uri": "https://localhost:8080/"
        },
        "id": "zrf9VGN0Kp3y",
        "outputId": "aeb68b79-f534-4679-f42b-c5eeb355ee84"
      },
      "execution_count": 23,
      "outputs": [
        {
          "output_type": "stream",
          "name": "stdout",
          "text": [
            "Requirement already satisfied: requests in /usr/local/lib/python3.10/dist-packages (2.31.0)\n",
            "Requirement already satisfied: charset-normalizer<4,>=2 in /usr/local/lib/python3.10/dist-packages (from requests) (3.3.2)\n",
            "Requirement already satisfied: idna<4,>=2.5 in /usr/local/lib/python3.10/dist-packages (from requests) (3.7)\n",
            "Requirement already satisfied: urllib3<3,>=1.21.1 in /usr/local/lib/python3.10/dist-packages (from requests) (2.0.7)\n",
            "Requirement already satisfied: certifi>=2017.4.17 in /usr/local/lib/python3.10/dist-packages (from requests) (2024.2.2)\n"
          ]
        }
      ]
    },
    {
      "cell_type": "markdown",
      "source": [
        "**Fetch Exchange Rates**"
      ],
      "metadata": {
        "id": "biYY19BiLD6K"
      }
    },
    {
      "cell_type": "markdown",
      "source": [
        "Using an endpoint that provides exchange rate data without requiring an API key. One such endpoint is https://api.exchangerate-api.com/v4/latest/USD, which provides rates relative to USD"
      ],
      "metadata": {
        "id": "1a5RA1_qLIas"
      }
    },
    {
      "cell_type": "markdown",
      "source": [
        "**Define the Conversion Functions:**"
      ],
      "metadata": {
        "id": "8HhhC7dHLXd7"
      }
    },
    {
      "cell_type": "markdown",
      "source": [
        "Fetch exchange rates and perform the currency conversion.\n",
        "\n"
      ],
      "metadata": {
        "id": "X43HfdQqLd9V"
      }
    },
    {
      "cell_type": "code",
      "source": [
        "\n",
        "base_currency = 'USD'\n",
        "target_currency = 'EUR'\n",
        "amount = 100\n",
        "exchange_rates = {\n",
        "    'USD': {'EUR': 0.84},\n",
        "    'EUR': {'USD': 1.19}\n",
        "}\n",
        "if base_currency == target_currency:\n",
        "    converted_amount = amount\n",
        "else:\n",
        "    if base_currency == 'USD':\n",
        "        converted_amount = amount * exchange_rates[base_currency][target_currency]\n",
        "    elif base_currency == 'EUR':\n",
        "        converted_amount = amount / exchange_rates[base_currency][target_currency]\n",
        "    else:\n",
        "        print(\"Unsupported base currency\")\n",
        "\n",
        "print(f\"{amount} {base_currency} is equal to {converted_amount} {target_currency}\")"
      ],
      "metadata": {
        "colab": {
          "base_uri": "https://localhost:8080/"
        },
        "id": "CI7tfviO1F6f",
        "outputId": "6a27b2b1-b1c7-4c22-b8db-a721caead0d8"
      },
      "execution_count": 18,
      "outputs": [
        {
          "output_type": "stream",
          "name": "stdout",
          "text": [
            "100 USD is equal to 84.0 EUR\n"
          ]
        }
      ]
    },
    {
      "cell_type": "code",
      "source": [
        "import requests\n",
        "BASE_URL = 'https://api.exchangerate-api.com/v4/latest/'\n",
        "\n",
        "def get_exchange_rate(from_currency, to_currency):\n",
        "    \"\"\"\n",
        "    Fetches the exchange rate from one currency to another.\n",
        "\n",
        "    Parameters:\n",
        "    from_currency (str): The base currency code.\n",
        "    to_currency (str): The target currency code.\n",
        "\n",
        "    Returns:\n",
        "    float: The exchange rate from the base currency to the target currency.\n",
        "    \"\"\"\n",
        "    url = f\"{BASE_URL}{from_currency}\"\n",
        "    response = requests.get(url)\n",
        "    data = response.json()\n",
        "\n",
        "    if response.status_code != 200:\n",
        "        print(f\"Error: Unable to fetch exchange rates. Status code: {response.status_code}\")\n",
        "        return None\n",
        "\n",
        "    rates = data.get('rates', {})\n",
        "    if to_currency not in rates:\n",
        "        print(f\"Error: Conversion rate for {to_currency} not available.\")\n",
        "        return None\n",
        "\n",
        "    return rates[to_currency]\n",
        "\n",
        "def convert_currency(amount, from_currency, to_currency):\n",
        "    \"\"\"\n",
        "    Converts a given amount from one currency to another using the latest exchange rate.\n",
        "\n",
        "    Parameters:\n",
        "    amount (float): The amount in the base currency.\n",
        "    from_currency (str): The base currency code.\n",
        "    to_currency (str): The target currency code.\n",
        "\n",
        "    Returns:\n",
        "    float: The converted amount in the target currency.\n",
        "    \"\"\"\n",
        "    rate = get_exchange_rate(from_currency, to_currency)\n",
        "    if rate is None:\n",
        "        print(\"Conversion rate not available.\")\n",
        "        return None\n",
        "    return amount * rate\n",
        "amount = 100\n",
        "from_currency = 'USD'\n",
        "to_currency = 'EUR'\n",
        "\n",
        "converted_amount = convert_currency(amount, from_currency, to_currency)\n",
        "if converted_amount is not None:\n",
        "    print(f\"{amount} {from_currency} is equal to {converted_amount:.2f} {to_currency}\")\n"
      ],
      "metadata": {
        "colab": {
          "base_uri": "https://localhost:8080/"
        },
        "id": "RYVfJnB1IjVH",
        "outputId": "2cae8c78-f8ca-4544-dbd0-11ff0d816540"
      },
      "execution_count": 21,
      "outputs": [
        {
          "output_type": "stream",
          "name": "stdout",
          "text": [
            "100 USD is equal to 91.90 EUR\n"
          ]
        }
      ]
    },
    {
      "cell_type": "code",
      "source": [
        "import requests\n",
        "import xml.etree.ElementTree as ET\n",
        "\n",
        "ECB_URL = 'https://www.ecb.europa.eu/stats/eurofxref/eurofxref-daily.xml'\n",
        "\n",
        "def fetch_ecb_exchange_rates():\n",
        "    response = requests.get(ECB_URL)\n",
        "    if response.status_code != 200:\n",
        "        print(f\"Error: Unable to fetch data from ECB. Status code: {response.status_code}\")\n",
        "        return None\n",
        "\n",
        "    tree = ET.ElementTree(ET.fromstring(response.content))\n",
        "    root = tree.getroot()\n",
        "\n",
        "    ns = {'ns': 'http://www.ecb.int/vocabulary/2002-08-01/eurofxref'}\n",
        "    cube = root.find('.//ns:Cube[@time]', ns)\n",
        "\n",
        "    rates = {'EUR': 1.0}\n",
        "    for rate in cube.findall('.//ns:Cube', ns):\n",
        "        currency = rate.get('currency')\n",
        "        rate_value = float(rate.get('rate'))\n",
        "        rates[currency] = rate_value\n",
        "\n",
        "    return rates\n",
        "\n",
        "def convert_currency(amount, from_currency, to_currency, rates):\n",
        "    if from_currency != 'EUR':\n",
        "        amount /= rates[from_currency]\n",
        "    return amount * rates[to_currency]\n",
        "\n",
        "\n",
        "rates = fetch_ecb_exchange_rates()\n",
        "if rates:\n",
        "\n",
        "    amount = 100\n",
        "    from_currency = 'USD'\n",
        "    to_currency = 'EUR'\n",
        "\n",
        "    converted_amount = convert_currency(amount, from_currency, to_currency, rates)\n",
        "    print(f\"{amount} {from_currency} is equal to {converted_amount:.2f} {to_currency}\")\n"
      ],
      "metadata": {
        "colab": {
          "base_uri": "https://localhost:8080/"
        },
        "id": "2LsII216IsDO",
        "outputId": "f5992cf0-4e31-4792-bf80-74516b595f18"
      },
      "execution_count": 22,
      "outputs": [
        {
          "output_type": "stream",
          "name": "stdout",
          "text": [
            "100 USD is equal to 91.98 EUR\n"
          ]
        }
      ]
    },
    {
      "cell_type": "markdown",
      "source": [
        "* **BASE_URL:**\n",
        "\n",
        "\n",
        "\n",
        "\n",
        "\n",
        "\n",
        "The BASE_URL is set to the endpoint provided by ExchangeRate-API, which gives the latest exchange rates relative to the specified base currency (in this case, USD).\n",
        "\n",
        "* ***get_exchange_rate Function:**\n",
        "This function constructs the URL using the base currency, makes a GET request to fetch the data, and extracts the exchange rate for the target currency from the JSON response. It includes error handling for failed requests and missing exchange rates.\n",
        "\n",
        "* **convert_currency Function:**\n",
        "This function utilizes the get_exchange_rate function to obtain the current exchange rate and then computes the converted amount. It handles cases where the exchange rate might not be available.\n",
        "\n",
        "\n"
      ],
      "metadata": {
        "id": "TNZTPvOcLnjB"
      }
    }
  ]
}